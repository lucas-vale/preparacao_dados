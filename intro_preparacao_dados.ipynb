{
 "cells": [
  {
   "cell_type": "code",
   "execution_count": 1,
   "metadata": {},
   "outputs": [],
   "source": [
    "import pandas as pd"
   ]
  },
  {
   "cell_type": "code",
   "execution_count": 2,
   "metadata": {},
   "outputs": [],
   "source": [
    "df = pd.read_csv('clientes-v2.csv')"
   ]
  },
  {
   "cell_type": "code",
   "execution_count": 3,
   "metadata": {},
   "outputs": [
    {
     "data": {
      "text/html": [
       "<div>\n",
       "<style scoped>\n",
       "    .dataframe tbody tr th:only-of-type {\n",
       "        vertical-align: middle;\n",
       "    }\n",
       "\n",
       "    .dataframe tbody tr th {\n",
       "        vertical-align: top;\n",
       "    }\n",
       "\n",
       "    .dataframe thead th {\n",
       "        text-align: right;\n",
       "    }\n",
       "</style>\n",
       "<table border=\"1\" class=\"dataframe\">\n",
       "  <thead>\n",
       "    <tr style=\"text-align: right;\">\n",
       "      <th></th>\n",
       "      <th>nome</th>\n",
       "      <th>cpf</th>\n",
       "      <th>idade</th>\n",
       "      <th>data</th>\n",
       "      <th>endereco</th>\n",
       "      <th>estado</th>\n",
       "      <th>pais</th>\n",
       "      <th>salario</th>\n",
       "      <th>nivel_educacao</th>\n",
       "      <th>numero_filhos</th>\n",
       "      <th>estado_civil</th>\n",
       "      <th>anos_experiencia</th>\n",
       "      <th>area_atuacao</th>\n",
       "    </tr>\n",
       "  </thead>\n",
       "  <tbody>\n",
       "    <tr>\n",
       "      <th>0</th>\n",
       "      <td>Vitor Lima</td>\n",
       "      <td>612.570.493-99</td>\n",
       "      <td>56</td>\n",
       "      <td>19/01/1968</td>\n",
       "      <td>Estrada Barbosa, 255\\nVila Tirol\\n53133-647 Ba...</td>\n",
       "      <td>Pará</td>\n",
       "      <td>Brasil</td>\n",
       "      <td>13550.54</td>\n",
       "      <td>Ensino Médio</td>\n",
       "      <td>0</td>\n",
       "      <td>Casado</td>\n",
       "      <td>17</td>\n",
       "      <td>Tecnologia</td>\n",
       "    </tr>\n",
       "    <tr>\n",
       "      <th>1</th>\n",
       "      <td>Ana Clara Martins</td>\n",
       "      <td>648.129.530-06</td>\n",
       "      <td>33</td>\n",
       "      <td>02/12/1990</td>\n",
       "      <td>Favela Duarte, 44\\nBonfim\\n37709685 Farias das...</td>\n",
       "      <td>Santa Catarina</td>\n",
       "      <td>Brasil</td>\n",
       "      <td>10645.16</td>\n",
       "      <td>NaN</td>\n",
       "      <td>3</td>\n",
       "      <td>NaN</td>\n",
       "      <td>15</td>\n",
       "      <td>NaN</td>\n",
       "    </tr>\n",
       "    <tr>\n",
       "      <th>2</th>\n",
       "      <td>Heloísa da Mata</td>\n",
       "      <td>340.981.256-33</td>\n",
       "      <td>49</td>\n",
       "      <td>31/01/1975</td>\n",
       "      <td>Pátio de Vieira, 83\\nJonas Veiga\\n53832-319 Ca...</td>\n",
       "      <td>Rio Grande do Norte</td>\n",
       "      <td>Brasil</td>\n",
       "      <td>3124.72</td>\n",
       "      <td>Ensino Médio</td>\n",
       "      <td>3</td>\n",
       "      <td>Casado</td>\n",
       "      <td>3</td>\n",
       "      <td>Indústria</td>\n",
       "    </tr>\n",
       "    <tr>\n",
       "      <th>3</th>\n",
       "      <td>Juan Novaes</td>\n",
       "      <td>097.168.524-01</td>\n",
       "      <td>54</td>\n",
       "      <td>26/08/1969</td>\n",
       "      <td>Morro de Pereira\\nPiraja\\n36797-897 Rocha / PA</td>\n",
       "      <td>Minas Gerais</td>\n",
       "      <td>Brasil</td>\n",
       "      <td>7534.60</td>\n",
       "      <td>Ensino Médio</td>\n",
       "      <td>0</td>\n",
       "      <td>Casado</td>\n",
       "      <td>18</td>\n",
       "      <td>Tecnologia</td>\n",
       "    </tr>\n",
       "    <tr>\n",
       "      <th>4</th>\n",
       "      <td>Srta. Sarah Peixoto</td>\n",
       "      <td>079.283.516-68</td>\n",
       "      <td>61</td>\n",
       "      <td>19/03/1963</td>\n",
       "      <td>Área Marina Martins, 34\\nSão Sebastião\\n10696-...</td>\n",
       "      <td>Amapá</td>\n",
       "      <td>Brasil</td>\n",
       "      <td>4067.73</td>\n",
       "      <td>Ensino Fundamental</td>\n",
       "      <td>1</td>\n",
       "      <td>Solteiro</td>\n",
       "      <td>16</td>\n",
       "      <td>Comércio</td>\n",
       "    </tr>\n",
       "  </tbody>\n",
       "</table>\n",
       "</div>"
      ],
      "text/plain": [
       "                  nome             cpf  idade        data  \\\n",
       "0           Vitor Lima  612.570.493-99     56  19/01/1968   \n",
       "1    Ana Clara Martins  648.129.530-06     33  02/12/1990   \n",
       "2      Heloísa da Mata  340.981.256-33     49  31/01/1975   \n",
       "3          Juan Novaes  097.168.524-01     54  26/08/1969   \n",
       "4  Srta. Sarah Peixoto  079.283.516-68     61  19/03/1963   \n",
       "\n",
       "                                            endereco               estado  \\\n",
       "0  Estrada Barbosa, 255\\nVila Tirol\\n53133-647 Ba...                 Pará   \n",
       "1  Favela Duarte, 44\\nBonfim\\n37709685 Farias das...       Santa Catarina   \n",
       "2  Pátio de Vieira, 83\\nJonas Veiga\\n53832-319 Ca...  Rio Grande do Norte   \n",
       "3     Morro de Pereira\\nPiraja\\n36797-897 Rocha / PA         Minas Gerais   \n",
       "4  Área Marina Martins, 34\\nSão Sebastião\\n10696-...                Amapá   \n",
       "\n",
       "     pais   salario      nivel_educacao  numero_filhos estado_civil  \\\n",
       "0  Brasil  13550.54        Ensino Médio              0       Casado   \n",
       "1  Brasil  10645.16                 NaN              3          NaN   \n",
       "2  Brasil   3124.72        Ensino Médio              3       Casado   \n",
       "3  Brasil   7534.60        Ensino Médio              0       Casado   \n",
       "4  Brasil   4067.73  Ensino Fundamental              1     Solteiro   \n",
       "\n",
       "   anos_experiencia area_atuacao  \n",
       "0                17   Tecnologia  \n",
       "1                15          NaN  \n",
       "2                 3    Indústria  \n",
       "3                18   Tecnologia  \n",
       "4                16     Comércio  "
      ]
     },
     "execution_count": 3,
     "metadata": {},
     "output_type": "execute_result"
    }
   ],
   "source": [
    "df.head()"
   ]
  },
  {
   "cell_type": "code",
   "execution_count": 4,
   "metadata": {},
   "outputs": [
    {
     "data": {
      "text/html": [
       "<div>\n",
       "<style scoped>\n",
       "    .dataframe tbody tr th:only-of-type {\n",
       "        vertical-align: middle;\n",
       "    }\n",
       "\n",
       "    .dataframe tbody tr th {\n",
       "        vertical-align: top;\n",
       "    }\n",
       "\n",
       "    .dataframe thead th {\n",
       "        text-align: right;\n",
       "    }\n",
       "</style>\n",
       "<table border=\"1\" class=\"dataframe\">\n",
       "  <thead>\n",
       "    <tr style=\"text-align: right;\">\n",
       "      <th></th>\n",
       "      <th>nome</th>\n",
       "      <th>cpf</th>\n",
       "      <th>idade</th>\n",
       "      <th>data</th>\n",
       "      <th>endereco</th>\n",
       "      <th>estado</th>\n",
       "      <th>pais</th>\n",
       "      <th>salario</th>\n",
       "      <th>nivel_educacao</th>\n",
       "      <th>numero_filhos</th>\n",
       "      <th>estado_civil</th>\n",
       "      <th>anos_experiencia</th>\n",
       "      <th>area_atuacao</th>\n",
       "    </tr>\n",
       "  </thead>\n",
       "  <tbody>\n",
       "    <tr>\n",
       "      <th>9995</th>\n",
       "      <td>Yago Fogaça</td>\n",
       "      <td>536.129.087-40</td>\n",
       "      <td>31</td>\n",
       "      <td>24/08/1992</td>\n",
       "      <td>Campo da Luz, 1\\nVila Betânia\\n13116409 Viana ...</td>\n",
       "      <td>Maranhão</td>\n",
       "      <td>Brasil</td>\n",
       "      <td>4596.30</td>\n",
       "      <td>Ensino Médio</td>\n",
       "      <td>2</td>\n",
       "      <td>Divorciado</td>\n",
       "      <td>9</td>\n",
       "      <td>Comércio</td>\n",
       "    </tr>\n",
       "    <tr>\n",
       "      <th>9996</th>\n",
       "      <td>Raul Lopes</td>\n",
       "      <td>078.234.156-07</td>\n",
       "      <td>42</td>\n",
       "      <td>01/08/1981</td>\n",
       "      <td>Via de Viana, 58\\nVila Pilar\\n47145794 da Mata...</td>\n",
       "      <td>Roraima</td>\n",
       "      <td>Brasil</td>\n",
       "      <td>3122.14</td>\n",
       "      <td>Ensino Fundamental</td>\n",
       "      <td>1</td>\n",
       "      <td>Casado</td>\n",
       "      <td>21</td>\n",
       "      <td>Saúde</td>\n",
       "    </tr>\n",
       "    <tr>\n",
       "      <th>9997</th>\n",
       "      <td>Laís Nunes</td>\n",
       "      <td>925.607.183-59</td>\n",
       "      <td>24</td>\n",
       "      <td>01/03/2000</td>\n",
       "      <td>Loteamento Otávio Jesus\\nVila Cemig\\n71077-892...</td>\n",
       "      <td>Minas Gerais</td>\n",
       "      <td>Brasil</td>\n",
       "      <td>4361.52</td>\n",
       "      <td>Ensino Médio</td>\n",
       "      <td>1</td>\n",
       "      <td>Casado</td>\n",
       "      <td>4</td>\n",
       "      <td>Educação</td>\n",
       "    </tr>\n",
       "    <tr>\n",
       "      <th>9998</th>\n",
       "      <td>Eduarda Cavalcanti</td>\n",
       "      <td>761.820.349-04</td>\n",
       "      <td>63</td>\n",
       "      <td>08/11/1960</td>\n",
       "      <td>Morro Nogueira, 32\\nTúnel De Ibirité\\n63634373...</td>\n",
       "      <td>Paraná</td>\n",
       "      <td>Brasil</td>\n",
       "      <td>13283.77</td>\n",
       "      <td>Ensino Médio</td>\n",
       "      <td>1</td>\n",
       "      <td>Solteiro</td>\n",
       "      <td>34</td>\n",
       "      <td>Indústria</td>\n",
       "    </tr>\n",
       "    <tr>\n",
       "      <th>9999</th>\n",
       "      <td>Ana Sophia Moura</td>\n",
       "      <td>537.962.184-82</td>\n",
       "      <td>59</td>\n",
       "      <td>03/03/1965</td>\n",
       "      <td>Passarela Leonardo da Conceição, 16\\nMirante\\n...</td>\n",
       "      <td>Maranhão</td>\n",
       "      <td>Brasil</td>\n",
       "      <td>3523.88</td>\n",
       "      <td>Ensino Fundamental</td>\n",
       "      <td>2</td>\n",
       "      <td>Casado</td>\n",
       "      <td>31</td>\n",
       "      <td>Educação</td>\n",
       "    </tr>\n",
       "  </tbody>\n",
       "</table>\n",
       "</div>"
      ],
      "text/plain": [
       "                    nome             cpf  idade        data  \\\n",
       "9995         Yago Fogaça  536.129.087-40     31  24/08/1992   \n",
       "9996          Raul Lopes  078.234.156-07     42  01/08/1981   \n",
       "9997          Laís Nunes  925.607.183-59     24  01/03/2000   \n",
       "9998  Eduarda Cavalcanti  761.820.349-04     63  08/11/1960   \n",
       "9999    Ana Sophia Moura  537.962.184-82     59  03/03/1965   \n",
       "\n",
       "                                               endereco        estado    pais  \\\n",
       "9995  Campo da Luz, 1\\nVila Betânia\\n13116409 Viana ...      Maranhão  Brasil   \n",
       "9996  Via de Viana, 58\\nVila Pilar\\n47145794 da Mata...       Roraima  Brasil   \n",
       "9997  Loteamento Otávio Jesus\\nVila Cemig\\n71077-892...  Minas Gerais  Brasil   \n",
       "9998  Morro Nogueira, 32\\nTúnel De Ibirité\\n63634373...        Paraná  Brasil   \n",
       "9999  Passarela Leonardo da Conceição, 16\\nMirante\\n...      Maranhão  Brasil   \n",
       "\n",
       "       salario      nivel_educacao  numero_filhos estado_civil  \\\n",
       "9995   4596.30        Ensino Médio              2   Divorciado   \n",
       "9996   3122.14  Ensino Fundamental              1       Casado   \n",
       "9997   4361.52        Ensino Médio              1       Casado   \n",
       "9998  13283.77        Ensino Médio              1     Solteiro   \n",
       "9999   3523.88  Ensino Fundamental              2       Casado   \n",
       "\n",
       "      anos_experiencia area_atuacao  \n",
       "9995                 9     Comércio  \n",
       "9996                21        Saúde  \n",
       "9997                 4     Educação  \n",
       "9998                34    Indústria  \n",
       "9999                31     Educação  "
      ]
     },
     "execution_count": 4,
     "metadata": {},
     "output_type": "execute_result"
    }
   ],
   "source": [
    "df.tail()"
   ]
  },
  {
   "cell_type": "code",
   "execution_count": 5,
   "metadata": {},
   "outputs": [
    {
     "name": "stdout",
     "output_type": "stream",
     "text": [
      "<class 'pandas.core.frame.DataFrame'>\n",
      "RangeIndex: 10000 entries, 0 to 9999\n",
      "Data columns (total 13 columns):\n",
      " #   Column            Non-Null Count  Dtype  \n",
      "---  ------            --------------  -----  \n",
      " 0   nome              10000 non-null  object \n",
      " 1   cpf               10000 non-null  object \n",
      " 2   idade             10000 non-null  int64  \n",
      " 3   data              10000 non-null  object \n",
      " 4   endereco          10000 non-null  object \n",
      " 5   estado            9415 non-null   object \n",
      " 6   pais              10000 non-null  object \n",
      " 7   salario           9428 non-null   float64\n",
      " 8   nivel_educacao    9546 non-null   object \n",
      " 9   numero_filhos     10000 non-null  int64  \n",
      " 10  estado_civil      9546 non-null   object \n",
      " 11  anos_experiencia  10000 non-null  int64  \n",
      " 12  area_atuacao      9546 non-null   object \n",
      "dtypes: float64(1), int64(3), object(9)\n",
      "memory usage: 1015.8+ KB\n"
     ]
    }
   ],
   "source": [
    "df.info()"
   ]
  },
  {
   "cell_type": "code",
   "execution_count": null,
   "metadata": {},
   "outputs": [],
   "source": [
    "# Acertando o tipo da data\n",
    "df['data'] = pd.to_datetime(df['data'], format='%d/%m/%Y', errors='coerce')"
   ]
  },
  {
   "cell_type": "code",
   "execution_count": 8,
   "metadata": {},
   "outputs": [
    {
     "name": "stdout",
     "output_type": "stream",
     "text": [
      "<class 'pandas.core.frame.DataFrame'>\n",
      "RangeIndex: 10000 entries, 0 to 9999\n",
      "Data columns (total 13 columns):\n",
      " #   Column            Non-Null Count  Dtype         \n",
      "---  ------            --------------  -----         \n",
      " 0   nome              10000 non-null  object        \n",
      " 1   cpf               10000 non-null  object        \n",
      " 2   idade             10000 non-null  int64         \n",
      " 3   data              10000 non-null  datetime64[ns]\n",
      " 4   endereco          10000 non-null  object        \n",
      " 5   estado            9415 non-null   object        \n",
      " 6   pais              10000 non-null  object        \n",
      " 7   salario           9428 non-null   float64       \n",
      " 8   nivel_educacao    9546 non-null   object        \n",
      " 9   numero_filhos     10000 non-null  int64         \n",
      " 10  estado_civil      9546 non-null   object        \n",
      " 11  anos_experiencia  10000 non-null  int64         \n",
      " 12  area_atuacao      9546 non-null   object        \n",
      "dtypes: datetime64[ns](1), float64(1), int64(3), object(8)\n",
      "memory usage: 1015.8+ KB\n"
     ]
    }
   ],
   "source": [
    "df.info()"
   ]
  },
  {
   "cell_type": "code",
   "execution_count": 10,
   "metadata": {},
   "outputs": [
    {
     "data": {
      "text/plain": [
       "nome                  0\n",
       "cpf                   0\n",
       "idade                 0\n",
       "data                  0\n",
       "endereco              0\n",
       "estado              585\n",
       "pais                  0\n",
       "salario             572\n",
       "nivel_educacao      454\n",
       "numero_filhos         0\n",
       "estado_civil        454\n",
       "anos_experiencia      0\n",
       "area_atuacao        454\n",
       "dtype: int64"
      ]
     },
     "execution_count": 10,
     "metadata": {},
     "output_type": "execute_result"
    }
   ],
   "source": [
    "# analise dos dados nulos\n",
    "\n",
    "df.isnull().sum()"
   ]
  },
  {
   "cell_type": "code",
   "execution_count": 11,
   "metadata": {},
   "outputs": [
    {
     "data": {
      "text/plain": [
       "nome                0.00\n",
       "cpf                 0.00\n",
       "idade               0.00\n",
       "data                0.00\n",
       "endereco            0.00\n",
       "estado              5.85\n",
       "pais                0.00\n",
       "salario             5.72\n",
       "nivel_educacao      4.54\n",
       "numero_filhos       0.00\n",
       "estado_civil        4.54\n",
       "anos_experiencia    0.00\n",
       "area_atuacao        4.54\n",
       "dtype: float64"
      ]
     },
     "execution_count": 11,
     "metadata": {},
     "output_type": "execute_result"
    }
   ],
   "source": [
    "# analise dos dados nulos em porcentagem\n",
    "\n",
    "df.isnull().mean() * 100"
   ]
  },
  {
   "cell_type": "code",
   "execution_count": 12,
   "metadata": {},
   "outputs": [],
   "source": [
    "df.dropna(inplace=True)"
   ]
  },
  {
   "cell_type": "code",
   "execution_count": 14,
   "metadata": {},
   "outputs": [
    {
     "name": "stdout",
     "output_type": "stream",
     "text": [
      "0\n"
     ]
    }
   ],
   "source": [
    "# Confirmando a remoção dos dados nulos\n",
    "print(df.isnull().sum().sum())"
   ]
  },
  {
   "cell_type": "code",
   "execution_count": 16,
   "metadata": {},
   "outputs": [
    {
     "data": {
      "text/plain": [
       "np.int64(0)"
      ]
     },
     "execution_count": 16,
     "metadata": {},
     "output_type": "execute_result"
    }
   ],
   "source": [
    "# Analise dos dados duplicados\n",
    "\n",
    "df.duplicated().sum()"
   ]
  },
  {
   "cell_type": "code",
   "execution_count": 17,
   "metadata": {},
   "outputs": [
    {
     "data": {
      "text/plain": [
       "nome                7032\n",
       "cpf                 8620\n",
       "idade                 74\n",
       "data                6875\n",
       "endereco            8629\n",
       "estado                27\n",
       "pais                   1\n",
       "salario             8581\n",
       "nivel_educacao         4\n",
       "numero_filhos          6\n",
       "estado_civil           4\n",
       "anos_experiencia      68\n",
       "area_atuacao           5\n",
       "dtype: int64"
      ]
     },
     "execution_count": 17,
     "metadata": {},
     "output_type": "execute_result"
    }
   ],
   "source": [
    "# Analise dos dados unicos\n",
    "\n",
    "df.nunique()"
   ]
  },
  {
   "cell_type": "code",
   "execution_count": 18,
   "metadata": {},
   "outputs": [
    {
     "data": {
      "text/html": [
       "<div>\n",
       "<style scoped>\n",
       "    .dataframe tbody tr th:only-of-type {\n",
       "        vertical-align: middle;\n",
       "    }\n",
       "\n",
       "    .dataframe tbody tr th {\n",
       "        vertical-align: top;\n",
       "    }\n",
       "\n",
       "    .dataframe thead th {\n",
       "        text-align: right;\n",
       "    }\n",
       "</style>\n",
       "<table border=\"1\" class=\"dataframe\">\n",
       "  <thead>\n",
       "    <tr style=\"text-align: right;\">\n",
       "      <th></th>\n",
       "      <th>idade</th>\n",
       "      <th>data</th>\n",
       "      <th>salario</th>\n",
       "      <th>numero_filhos</th>\n",
       "      <th>anos_experiencia</th>\n",
       "    </tr>\n",
       "  </thead>\n",
       "  <tbody>\n",
       "    <tr>\n",
       "      <th>count</th>\n",
       "      <td>8629.000000</td>\n",
       "      <td>8629</td>\n",
       "      <td>8629.000000</td>\n",
       "      <td>8629.000000</td>\n",
       "      <td>8629.000000</td>\n",
       "    </tr>\n",
       "    <tr>\n",
       "      <th>mean</th>\n",
       "      <td>40.012516</td>\n",
       "      <td>1983-10-06 07:38:25.017962752</td>\n",
       "      <td>6771.998985</td>\n",
       "      <td>1.000811</td>\n",
       "      <td>11.083440</td>\n",
       "    </tr>\n",
       "    <tr>\n",
       "      <th>min</th>\n",
       "      <td>18.000000</td>\n",
       "      <td>1932-04-24 00:00:00</td>\n",
       "      <td>1357.960000</td>\n",
       "      <td>0.000000</td>\n",
       "      <td>0.000000</td>\n",
       "    </tr>\n",
       "    <tr>\n",
       "      <th>25%</th>\n",
       "      <td>27.000000</td>\n",
       "      <td>1973-05-20 00:00:00</td>\n",
       "      <td>4232.500000</td>\n",
       "      <td>0.000000</td>\n",
       "      <td>2.000000</td>\n",
       "    </tr>\n",
       "    <tr>\n",
       "      <th>50%</th>\n",
       "      <td>38.000000</td>\n",
       "      <td>1985-07-26 00:00:00</td>\n",
       "      <td>6061.630000</td>\n",
       "      <td>1.000000</td>\n",
       "      <td>8.000000</td>\n",
       "    </tr>\n",
       "    <tr>\n",
       "      <th>75%</th>\n",
       "      <td>50.000000</td>\n",
       "      <td>1996-12-14 00:00:00</td>\n",
       "      <td>8449.750000</td>\n",
       "      <td>2.000000</td>\n",
       "      <td>16.000000</td>\n",
       "    </tr>\n",
       "    <tr>\n",
       "      <th>max</th>\n",
       "      <td>91.000000</td>\n",
       "      <td>2006-04-11 00:00:00</td>\n",
       "      <td>29736.680000</td>\n",
       "      <td>5.000000</td>\n",
       "      <td>73.000000</td>\n",
       "    </tr>\n",
       "    <tr>\n",
       "      <th>std</th>\n",
       "      <td>15.401438</td>\n",
       "      <td>NaN</td>\n",
       "      <td>3478.140961</td>\n",
       "      <td>1.123205</td>\n",
       "      <td>11.215747</td>\n",
       "    </tr>\n",
       "  </tbody>\n",
       "</table>\n",
       "</div>"
      ],
      "text/plain": [
       "             idade                           data       salario  \\\n",
       "count  8629.000000                           8629   8629.000000   \n",
       "mean     40.012516  1983-10-06 07:38:25.017962752   6771.998985   \n",
       "min      18.000000            1932-04-24 00:00:00   1357.960000   \n",
       "25%      27.000000            1973-05-20 00:00:00   4232.500000   \n",
       "50%      38.000000            1985-07-26 00:00:00   6061.630000   \n",
       "75%      50.000000            1996-12-14 00:00:00   8449.750000   \n",
       "max      91.000000            2006-04-11 00:00:00  29736.680000   \n",
       "std      15.401438                            NaN   3478.140961   \n",
       "\n",
       "       numero_filhos  anos_experiencia  \n",
       "count    8629.000000       8629.000000  \n",
       "mean        1.000811         11.083440  \n",
       "min         0.000000          0.000000  \n",
       "25%         0.000000          2.000000  \n",
       "50%         1.000000          8.000000  \n",
       "75%         2.000000         16.000000  \n",
       "max         5.000000         73.000000  \n",
       "std         1.123205         11.215747  "
      ]
     },
     "execution_count": 18,
     "metadata": {},
     "output_type": "execute_result"
    }
   ],
   "source": [
    "df.describe()"
   ]
  },
  {
   "cell_type": "code",
   "execution_count": 20,
   "metadata": {},
   "outputs": [],
   "source": [
    "df = df [['idade', 'data', 'estado', 'salario', 'nivel_educacao', 'numero_filhos', 'estado_civil', 'area_atuacao']]"
   ]
  },
  {
   "cell_type": "code",
   "execution_count": 21,
   "metadata": {},
   "outputs": [],
   "source": [
    "df.to_csv('clientes-v2-tratados.csv', index=False)"
   ]
  }
 ],
 "metadata": {
  "kernelspec": {
   "display_name": "Python 3",
   "language": "python",
   "name": "python3"
  },
  "language_info": {
   "codemirror_mode": {
    "name": "ipython",
    "version": 3
   },
   "file_extension": ".py",
   "mimetype": "text/x-python",
   "name": "python",
   "nbconvert_exporter": "python",
   "pygments_lexer": "ipython3",
   "version": "3.13.2"
  }
 },
 "nbformat": 4,
 "nbformat_minor": 2
}
